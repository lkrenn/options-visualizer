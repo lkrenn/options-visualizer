{
 "cells": [
  {
   "cell_type": "markdown",
   "metadata": {},
   "source": [
    "# Options Visualizer\n",
    "\n",
    "The goal of this notebook is to get a better grasp on the dynamics of nth-order Greeks."
   ]
  },
  {
   "cell_type": "markdown",
   "metadata": {},
   "source": [
    "## Plot One Example\n",
    "\n",
    "First let's try building out what one plot would look like until we're satisfied with the results. Then, once it's easily scalable, we can build out the remaining plots."
   ]
  },
  {
   "cell_type": "code",
   "execution_count": 18,
   "metadata": {},
   "outputs": [
    {
     "data": {
      "application/vnd.jupyter.widget-view+json": {
       "model_id": "37f071e93a814423b969a92eaf793bbe",
       "version_major": 2,
       "version_minor": 0
      },
      "text/plain": [
       "interactive(children=(FloatSlider(value=100.0, description='Strike Price (K)', max=150.0, min=50.0, step=1.0, …"
      ]
     },
     "metadata": {},
     "output_type": "display_data"
    },
    {
     "data": {
      "text/plain": [
       "<function __main__.plot_delta(K=100, T=1, r=0.05, sigma=0.2, option_type='call', S_current=100)>"
      ]
     },
     "execution_count": 18,
     "metadata": {},
     "output_type": "execute_result"
    }
   ],
   "source": [
    "import numpy as np\n",
    "import matplotlib.pyplot as plt\n",
    "import scipy.stats as si\n",
    "import ipywidgets as widgets\n",
    "\n",
    "def delta(S, K, T, r, sigma, option_type='call'):\n",
    "    \"\"\"calculate delta for european options\"\"\"\n",
    "    d1 = (np.log(S / K) + (r + sigma**2 / 2) * T) / (sigma * np.sqrt(T))\n",
    "    if option_type == 'call':\n",
    "        return si.norm.cdf(d1)\n",
    "    else:\n",
    "        return si.norm.cdf(d1) - 1\n",
    "\n",
    "def plot_delta(K=100, T=1, r=0.05, sigma=0.2, option_type='call', S_current=100):\n",
    "    \"\"\"plot delta as a function of stock price and show the current delta\"\"\"\n",
    "    S_range = np.linspace(50, 150, 400)  # Range of stock prices\n",
    "    delta_values = [delta(S, K, T, r, sigma, option_type) for S in S_range]\n",
    "    current_delta = delta(S_current, K, T, r, sigma, option_type)\n",
    "\n",
    "    fig, ax = plt.subplots(figsize=(10, 6))\n",
    "    ax.plot(S_range, delta_values, label='Delta', color='blue')\n",
    "    ax.scatter(S_current, current_delta, color='red', zorder=5, label=f'Current Delta: {current_delta:.2f}')\n",
    "    ax.axvline(S_current, color='red', linestyle='--', linewidth=0.5)\n",
    "    ax.set_title('Delta vs Stock Price')\n",
    "    ax.set_xlabel('Stock Price (S)')\n",
    "    ax.set_ylabel('Delta')\n",
    "    ax.legend()\n",
    "    plt.grid(True)\n",
    "    plt.show()\n",
    "\n",
    "style = {'description_width': 'initial'}\n",
    "widgets.interact(\n",
    "    plot_delta,\n",
    "    S_current=widgets.FloatSlider(value=100, min=50, max=150, step=1, description='Stock Price (S)', style=style),\n",
    "    K=widgets.FloatSlider(value=100, min=50, max=150, step=1, description='Strike Price (K)', style=style),\n",
    "    T=widgets.FloatSlider(value=1, min=0.01, max=2, step=0.01, description='Time to Expiry (T)', style=style),\n",
    "    r=widgets.FloatSlider(value=0.05, min=0, max=0.2, step=0.01, description='Risk-Free Rate (r)', style=style),\n",
    "    sigma=widgets.FloatSlider(value=0.2, min=0.01, max=1, step=0.01, description='Volatility (σ)', style=style),\n",
    "    option_type=widgets.Dropdown(options=['call', 'put'], value='call', description='Option Type', style=style)\n",
    ")\n"
   ]
  },
  {
   "cell_type": "markdown",
   "metadata": {},
   "source": [
    "## First and Second Order Greeks"
   ]
  },
  {
   "cell_type": "markdown",
   "metadata": {},
   "source": [
    "I think this now works fantastic, let's move on to building out the rest of the visualizations!"
   ]
  },
  {
   "cell_type": "code",
   "execution_count": 19,
   "metadata": {},
   "outputs": [
    {
     "data": {
      "application/vnd.jupyter.widget-view+json": {
       "model_id": "8b548f989c24473aa85e0eb192dba31c",
       "version_major": 2,
       "version_minor": 0
      },
      "text/plain": [
       "interactive(children=(FloatSlider(value=100.0, description='Stock Price (S)', max=150.0, min=50.0, step=1.0, s…"
      ]
     },
     "metadata": {},
     "output_type": "display_data"
    },
    {
     "data": {
      "text/plain": [
       "<function __main__.plot_all_greeks(S_current, K, T, r, sigma, option_type, fixed_axes)>"
      ]
     },
     "execution_count": 19,
     "metadata": {},
     "output_type": "execute_result"
    }
   ],
   "source": [
    "import numpy as np\n",
    "import matplotlib.pyplot as plt\n",
    "import scipy.stats as si\n",
    "import ipywidgets as widgets\n",
    "\n",
    "def d1(S, K, T, r, sigma):\n",
    "    \"\"\"calculate d1 for Black-Scholes formula\"\"\"\n",
    "    return (np.log(S / K) + (r + sigma**2 / 2) * T) / (sigma * np.sqrt(T))\n",
    "\n",
    "def delta(S, K, T, r, sigma, option_type='call'):\n",
    "    \"\"\"calculate delta for European options\"\"\"\n",
    "    d1_val = d1(S, K, T, r, sigma)\n",
    "    if option_type == 'call':\n",
    "        return si.norm.cdf(d1_val)\n",
    "    else:\n",
    "        return si.norm.cdf(d1_val) - 1\n",
    "\n",
    "def gamma(S, K, T, r, sigma):\n",
    "    \"\"\"calculate gamma for European option.\"\"\"\n",
    "    d1_val = d1(S, K, T, r, sigma)\n",
    "    return si.norm.pdf(d1_val) / (S * sigma * np.sqrt(T))\n",
    "\n",
    "def theta(S, K, T, r, sigma, option_type='call'):\n",
    "    \"\"\"calculate theta for European options\"\"\"\n",
    "    d1_val = d1(S, K, T, r, sigma)\n",
    "    d2_val = d1_val - sigma * np.sqrt(T)\n",
    "    term1 = -(S * si.norm.pdf(d1_val) * sigma) / (2 * np.sqrt(T))\n",
    "    if option_type == 'call':\n",
    "        term2 = r * K * np.exp(-r * T) * si.norm.cdf(d2_val)\n",
    "        return term1 - term2\n",
    "    else:\n",
    "        term2 = r * K * np.exp(-r * T) * si.norm.cdf(-d2_val)\n",
    "        return term1 + term2\n",
    "\n",
    "def vega(S, K, T, r, sigma):\n",
    "    \"\"\"calculate vega for European options\"\"\"\n",
    "    d1_val = d1(S, K, T, r, sigma)\n",
    "    return S * si.norm.pdf(d1_val) * np.sqrt(T)\n",
    "\n",
    "def rho(S, K, T, r, sigma, option_type='call'):\n",
    "    \"\"\"calculate rho for European options\"\"\"\n",
    "    d2_val = d1(S, K, T, r, sigma) - sigma * np.sqrt(T)\n",
    "    if option_type == 'call':\n",
    "        return K * T * np.exp(-r * T) * si.norm.cdf(d2_val)\n",
    "    else:\n",
    "        return -K * T * np.exp(-r * T) * si.norm.cdf(-d2_val)\n",
    "\n",
    "def vanna(S, K, T, r, sigma):\n",
    "    \"\"\"calculate vanna for European options\"\"\"\n",
    "    d1_val = d1(S, K, T, r, sigma)\n",
    "    vega_val = vega(S, K, T, r, sigma)\n",
    "    return vega_val * (1 - d1_val / (sigma * np.sqrt(T)))\n",
    "\n",
    "def charm(S, K, T, r, sigma, option_type='call'):\n",
    "    \"\"\"calculate charm for European options\"\"\"\n",
    "    d1_val = d1(S, K, T, r, sigma)\n",
    "    d2_val = d1_val - sigma * np.sqrt(T)\n",
    "    factor = -si.norm.pdf(d1_val) * (2 * r * T - d2_val * sigma * np.sqrt(T)) / (2 * T * sigma * np.sqrt(T))\n",
    "    return factor if option_type == 'call' else -factor\n",
    "\n",
    "def plot_all_greeks(S_current, K, T, r, sigma, option_type, fixed_axes):\n",
    "    \"\"\"plot all greeks as a function of stock price with toggle for fixed axes\"\"\"\n",
    "    S_range = np.linspace(50, 150, 400)\n",
    "    greeks = {\n",
    "        'Delta': [delta(S, K, T, r, sigma, option_type) for S in S_range],\n",
    "        'Gamma': [gamma(S, K, T, r, sigma) for S in S_range],\n",
    "        'Theta': [theta(S, K, T, r, sigma, option_type) for S in S_range],\n",
    "        'Vega': [vega(S, K, T, r, sigma) for S in S_range],\n",
    "        'Rho': [rho(S, K, T, r, sigma, option_type) for S in S_range],\n",
    "        'Vanna': [vanna(S, K, T, r, sigma) for S in S_range],\n",
    "        'Charm': [charm(S, K, T, r, sigma, option_type) for S in S_range]\n",
    "    }\n",
    "\n",
    "    current_values = {\n",
    "        'Delta': delta(S_current, K, T, r, sigma, option_type),\n",
    "        'Gamma': gamma(S_current, K, T, r, sigma),\n",
    "        'Theta': theta(S_current, K, T, r, sigma, option_type),\n",
    "        'Vega': vega(S_current, K, T, r, sigma),\n",
    "        'Rho': rho(S_current, K, T, r, sigma, option_type),\n",
    "        'Vanna': vanna(S_current, K, T, r, sigma),\n",
    "        'Charm': charm(S_current, K, T, r, sigma, option_type)\n",
    "    }\n",
    "\n",
    "    # Reasonable fixed ranges based on typical behavior\n",
    "    fixed_ranges = {\n",
    "        'Delta': (-0.1, 1.1),\n",
    "        'Gamma': (0, 0.1),\n",
    "        'Theta': (-20, 0.1),\n",
    "        'Vega': (0, 100),\n",
    "        'Rho': (-1, 100),\n",
    "        'Vanna': (-150, 150),\n",
    "        'Charm': (-1, 1)\n",
    "    }\n",
    "\n",
    "    fig, axs = plt.subplots(4, 2, figsize=(14, 16))\n",
    "    axs = axs.flatten()\n",
    "    greek_names = list(greeks.keys())\n",
    "\n",
    "    for i, greek in enumerate(greek_names):\n",
    "        axs[i].plot(S_range, greeks[greek], label=f'{greek}', color='blue')\n",
    "        axs[i].scatter(S_current, current_values[greek], color='red', zorder=5, label=f'Current {greek}: {current_values[greek]:.2f}')\n",
    "        axs[i].axvline(S_current, color='red', linestyle='--', linewidth=0.5)\n",
    "        axs[i].set_title(f'{greek} vs Stock Price')\n",
    "        axs[i].set_ylabel(greek)\n",
    "        axs[i].legend()\n",
    "        axs[i].grid(True)\n",
    "\n",
    "        # Only show the x-label \"Stock Price (S)\" on the bottom row\n",
    "        if i >= 6:\n",
    "            axs[i].set_xlabel('Stock Price (S)')\n",
    "\n",
    "        # Set fixed or dynamic y-axis limits\n",
    "        if fixed_axes:\n",
    "            axs[i].set_ylim(fixed_ranges[greek])\n",
    "\n",
    "    # Remove the last empty subplot\n",
    "    fig.delaxes(axs[7])\n",
    "\n",
    "    fig.tight_layout(pad=3.0)\n",
    "    plt.show()\n",
    "\n",
    "style = {'description_width': 'initial'}\n",
    "widgets.interact(\n",
    "    plot_all_greeks,\n",
    "    S_current=widgets.FloatSlider(value=100, min=50, max=150, step=1, description='Stock Price (S)', style=style),\n",
    "    K=widgets.FloatSlider(value=100, min=50, max=150, step=1, description='Strike Price (K)', style=style),\n",
    "    T=widgets.FloatSlider(value=1, min=0.01, max=2, step=0.01, description='Time to Expiry (T)', style=style),\n",
    "    r=widgets.FloatSlider(value=0.05, min=0, max=0.2, step=0.01, description='Risk-Free Rate (r)', style=style),\n",
    "    sigma=widgets.FloatSlider(value=0.2, min=0.01, max=1, step=0.01, description='Volatility (σ)', style=style),\n",
    "    option_type=widgets.Dropdown(options=['call', 'put'], value='call', description='Option Type', style=style),\n",
    "    fixed_axes=widgets.Checkbox(value=True, description='Fixed Axes', style=style)\n",
    ")\n"
   ]
  },
  {
   "cell_type": "code",
   "execution_count": null,
   "metadata": {},
   "outputs": [],
   "source": []
  }
 ],
 "metadata": {
  "kernelspec": {
   "display_name": "hummingbot",
   "language": "python",
   "name": "python3"
  },
  "language_info": {
   "codemirror_mode": {
    "name": "ipython",
    "version": 3
   },
   "file_extension": ".py",
   "mimetype": "text/x-python",
   "name": "python",
   "nbconvert_exporter": "python",
   "pygments_lexer": "ipython3",
   "version": "3.9.7"
  }
 },
 "nbformat": 4,
 "nbformat_minor": 2
}
